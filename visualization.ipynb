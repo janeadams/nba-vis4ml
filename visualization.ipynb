{
  "cells": [
    {
      "cell_type": "markdown",
      "source": [
        "# Explainable Neural Binary Analysis\n",
        "\n",
        "CS7295 Visualization for Machine Learning\n",
        "\n",
        "Jane Adams and Michael Davinroy\n",
        "\n",
        "\n",
        "**IMPORTANT**:\n",
        "\n",
        "In order to run this notebook, you will need to copy to your own Google Drive.\n",
        "\n",
        "Go to `File... Save a Copy in Drive` to get your own version.\n"
      ],
      "metadata": {
        "id": "HPRwsi0Nk84I"
      },
      "id": "HPRwsi0Nk84I"
    },
    {
      "cell_type": "code",
      "source": [
        "%%capture\n",
        "!pip install EoN\n",
        "!pip install jupyter_dash\n",
        "!pip install dash_daq"
      ],
      "metadata": {
        "id": "roAkvUzZaDZn"
      },
      "id": "roAkvUzZaDZn",
      "execution_count": 1,
      "outputs": []
    },
    {
      "cell_type": "code",
      "execution_count": 2,
      "id": "f2f6a726",
      "metadata": {
        "id": "f2f6a726"
      },
      "outputs": [],
      "source": [
        "import networkx as nx\n",
        "import json\n",
        "import numpy as np\n",
        "import pandas as pd\n",
        "from EoN import hierarchy_pos\n",
        "import plotly.express as px\n",
        "import plotly.graph_objects as go\n",
        "import itertools"
      ]
    },
    {
      "cell_type": "code",
      "execution_count": 3,
      "id": "60e6b7ca",
      "metadata": {
        "id": "60e6b7ca"
      },
      "outputs": [],
      "source": [
        "# Data: https://github.com/Cisco-Talos/binary_function_similarity\n",
        "# GNN: https://github.com/deepmind/deepmind-research/tree/master/graph_matching_networks"
      ]
    },
    {
      "cell_type": "code",
      "execution_count": 4,
      "id": "73511de2",
      "metadata": {
        "id": "73511de2"
      },
      "outputs": [],
      "source": [
        "data_dict = {\n",
        "    'node':'Function Address',\n",
        "    'bb_len': 'Length of Basic Blocks',\n",
        "    'instruction_count': 'Number of Instructions',\n",
        "    'bb_mnems': 'Instruction Mnemonics',\n",
        "    'source_count': 'Departures from this function', \n",
        "    'target_count': 'Arrivals to this function'\n",
        "}"
      ]
    },
    {
      "cell_type": "code",
      "execution_count": 5,
      "id": "64dd740c",
      "metadata": {
        "id": "64dd740c"
      },
      "outputs": [],
      "source": [
        "dataset = 'Dataset-1'\n",
        "testtrain = 'testing'\n",
        "cutoff = 50\n",
        "rel_path = 'http://dev.universalities.com/nba/'"
      ]
    },
    {
      "cell_type": "code",
      "execution_count": 6,
      "id": "896c2437",
      "metadata": {
        "id": "896c2437"
      },
      "outputs": [],
      "source": [
        "def get_simDF(dataset=dataset, testtrain=testtrain, cutoff=cutoff, rank=True, subset='OPC-200'):\n",
        "    sim_dfs = []\n",
        "    for posneg in ['pos','neg']:\n",
        "        path = f'{rel_path}sim_scores/{posneg}{\"_rank\" if rank else \"\"}_{testtrain}_{dataset}_GGSNN_{subset}_e10.csv'\n",
        "        print(f'Accessing similarity data path {path}...')\n",
        "        df = pd.read_csv(path)\n",
        "        df['class'] = posneg\n",
        "        df['distance']=[-s for s in df['sim']]\n",
        "        df = df.sample(n=cutoff).sort_values(by='distance').reset_index().drop(columns='index')\n",
        "        sim_dfs.append(df)\n",
        "    simDF = pd.concat(sim_dfs).sort_index(kind='merge').reset_index().drop(columns='index')\n",
        "    return simDF"
      ]
    },
    {
      "cell_type": "code",
      "execution_count": 7,
      "id": "075d83bb",
      "metadata": {
        "colab": {
          "base_uri": "https://localhost:8080/",
          "height": 461
        },
        "id": "075d83bb",
        "outputId": "7f6120c5-1432-4f5b-dffa-4f44ecc069ab"
      },
      "outputs": [
        {
          "output_type": "stream",
          "name": "stdout",
          "text": [
            "Accessing similarity data path http://dev.universalities.com/nba/sim_scores/pos_testing_Dataset-1_GGSNN_OPC-200_e10.csv...\n",
            "Accessing similarity data path http://dev.universalities.com/nba/sim_scores/neg_testing_Dataset-1_GGSNN_OPC-200_e10.csv...\n"
          ]
        },
        {
          "output_type": "execute_result",
          "data": {
            "text/plain": [
              "                                        idb_path_1        fva_1  \\\n",
              "0      IDBs/Dataset-1/z3/arm32-clang-5.0-O3_z3.i64     0xa4a938   \n",
              "1          IDBs/Dataset-1/z3/x64-gcc-4.8-O0_z3.i64     0x96025a   \n",
              "2        IDBs/Dataset-1/z3/x86-clang-3.5-O1_z3.i64    0x89fd900   \n",
              "3          IDBs/Dataset-1/z3/arm64-gcc-9-O0_z3.i64     0x6e04ac   \n",
              "4            IDBs/Dataset-1/z3/x86-gcc-9-O2_z3.i64    0x876fcf0   \n",
              "..                                             ...          ...   \n",
              "95  IDBs/Dataset-1/nmap/arm64-clang-7-O3_nping.i64     0x28dffc   \n",
              "96        IDBs/Dataset-1/z3/mips64-gcc-7-O0_z3.i64  0x120da35dc   \n",
              "97  IDBs/Dataset-1/nmap/arm64-clang-9-O1_nping.i64     0x252cec   \n",
              "98       IDBs/Dataset-1/z3/x86-clang-5.0-O0_z3.i64    0x83c7ae0   \n",
              "99           IDBs/Dataset-1/z3/x86-gcc-7-Os_z3.i64    0x84c814e   \n",
              "\n",
              "                                       idb_path_2      fva_2           sim  \\\n",
              "0     IDBs/Dataset-1/z3/arm32-clang-5.0-O1_z3.i64   0xa2efb0 -2.404283e-15   \n",
              "1         IDBs/Dataset-1/z3/x86-clang-9-O3_z3.i64  0x8ab7500 -1.021559e-01   \n",
              "2       IDBs/Dataset-1/z3/x64-clang-3.5-O1_z3.i64   0xce27e0 -1.082326e-03   \n",
              "3         IDBs/Dataset-1/z3/x64-clang-7-Os_z3.i64   0x93f2e2 -2.537921e-01   \n",
              "4           IDBs/Dataset-1/z3/x86-gcc-5-O2_z3.i64  0x8633110 -2.621230e-03   \n",
              "..                                            ...        ...           ...   \n",
              "95   IDBs/Dataset-1/z3/mips32-clang-3.5-O2_z3.i64   0xc5d878 -1.119914e+01   \n",
              "96       IDBs/Dataset-1/z3/mips32-gcc-5-O3_z3.i64   0xded434 -3.696947e+00   \n",
              "97  IDBs/Dataset-1/nmap/x64-clang-5.0-O1_nmap.i64   0x567e90 -1.173518e+01   \n",
              "98        IDBs/Dataset-1/z3/arm64-gcc-9-O3_z3.i64   0x66b728 -4.807997e+00   \n",
              "99     IDBs/Dataset-1/nmap/x64-gcc-5-Os_nping.i64    0x45dcb -4.517256e+01   \n",
              "\n",
              "   class      distance  \n",
              "0    pos  2.404283e-15  \n",
              "1    neg  1.021559e-01  \n",
              "2    pos  1.082326e-03  \n",
              "3    neg  2.537921e-01  \n",
              "4    pos  2.621230e-03  \n",
              "..   ...           ...  \n",
              "95   neg  1.119914e+01  \n",
              "96   pos  3.696947e+00  \n",
              "97   neg  1.173518e+01  \n",
              "98   pos  4.807997e+00  \n",
              "99   neg  4.517256e+01  \n",
              "\n",
              "[100 rows x 7 columns]"
            ],
            "text/html": [
              "\n",
              "  <div id=\"df-f1794596-25b2-4b25-abae-c050706dfef0\">\n",
              "    <div class=\"colab-df-container\">\n",
              "      <div>\n",
              "<style scoped>\n",
              "    .dataframe tbody tr th:only-of-type {\n",
              "        vertical-align: middle;\n",
              "    }\n",
              "\n",
              "    .dataframe tbody tr th {\n",
              "        vertical-align: top;\n",
              "    }\n",
              "\n",
              "    .dataframe thead th {\n",
              "        text-align: right;\n",
              "    }\n",
              "</style>\n",
              "<table border=\"1\" class=\"dataframe\">\n",
              "  <thead>\n",
              "    <tr style=\"text-align: right;\">\n",
              "      <th></th>\n",
              "      <th>idb_path_1</th>\n",
              "      <th>fva_1</th>\n",
              "      <th>idb_path_2</th>\n",
              "      <th>fva_2</th>\n",
              "      <th>sim</th>\n",
              "      <th>class</th>\n",
              "      <th>distance</th>\n",
              "    </tr>\n",
              "  </thead>\n",
              "  <tbody>\n",
              "    <tr>\n",
              "      <th>0</th>\n",
              "      <td>IDBs/Dataset-1/z3/arm32-clang-5.0-O3_z3.i64</td>\n",
              "      <td>0xa4a938</td>\n",
              "      <td>IDBs/Dataset-1/z3/arm32-clang-5.0-O1_z3.i64</td>\n",
              "      <td>0xa2efb0</td>\n",
              "      <td>-2.404283e-15</td>\n",
              "      <td>pos</td>\n",
              "      <td>2.404283e-15</td>\n",
              "    </tr>\n",
              "    <tr>\n",
              "      <th>1</th>\n",
              "      <td>IDBs/Dataset-1/z3/x64-gcc-4.8-O0_z3.i64</td>\n",
              "      <td>0x96025a</td>\n",
              "      <td>IDBs/Dataset-1/z3/x86-clang-9-O3_z3.i64</td>\n",
              "      <td>0x8ab7500</td>\n",
              "      <td>-1.021559e-01</td>\n",
              "      <td>neg</td>\n",
              "      <td>1.021559e-01</td>\n",
              "    </tr>\n",
              "    <tr>\n",
              "      <th>2</th>\n",
              "      <td>IDBs/Dataset-1/z3/x86-clang-3.5-O1_z3.i64</td>\n",
              "      <td>0x89fd900</td>\n",
              "      <td>IDBs/Dataset-1/z3/x64-clang-3.5-O1_z3.i64</td>\n",
              "      <td>0xce27e0</td>\n",
              "      <td>-1.082326e-03</td>\n",
              "      <td>pos</td>\n",
              "      <td>1.082326e-03</td>\n",
              "    </tr>\n",
              "    <tr>\n",
              "      <th>3</th>\n",
              "      <td>IDBs/Dataset-1/z3/arm64-gcc-9-O0_z3.i64</td>\n",
              "      <td>0x6e04ac</td>\n",
              "      <td>IDBs/Dataset-1/z3/x64-clang-7-Os_z3.i64</td>\n",
              "      <td>0x93f2e2</td>\n",
              "      <td>-2.537921e-01</td>\n",
              "      <td>neg</td>\n",
              "      <td>2.537921e-01</td>\n",
              "    </tr>\n",
              "    <tr>\n",
              "      <th>4</th>\n",
              "      <td>IDBs/Dataset-1/z3/x86-gcc-9-O2_z3.i64</td>\n",
              "      <td>0x876fcf0</td>\n",
              "      <td>IDBs/Dataset-1/z3/x86-gcc-5-O2_z3.i64</td>\n",
              "      <td>0x8633110</td>\n",
              "      <td>-2.621230e-03</td>\n",
              "      <td>pos</td>\n",
              "      <td>2.621230e-03</td>\n",
              "    </tr>\n",
              "    <tr>\n",
              "      <th>...</th>\n",
              "      <td>...</td>\n",
              "      <td>...</td>\n",
              "      <td>...</td>\n",
              "      <td>...</td>\n",
              "      <td>...</td>\n",
              "      <td>...</td>\n",
              "      <td>...</td>\n",
              "    </tr>\n",
              "    <tr>\n",
              "      <th>95</th>\n",
              "      <td>IDBs/Dataset-1/nmap/arm64-clang-7-O3_nping.i64</td>\n",
              "      <td>0x28dffc</td>\n",
              "      <td>IDBs/Dataset-1/z3/mips32-clang-3.5-O2_z3.i64</td>\n",
              "      <td>0xc5d878</td>\n",
              "      <td>-1.119914e+01</td>\n",
              "      <td>neg</td>\n",
              "      <td>1.119914e+01</td>\n",
              "    </tr>\n",
              "    <tr>\n",
              "      <th>96</th>\n",
              "      <td>IDBs/Dataset-1/z3/mips64-gcc-7-O0_z3.i64</td>\n",
              "      <td>0x120da35dc</td>\n",
              "      <td>IDBs/Dataset-1/z3/mips32-gcc-5-O3_z3.i64</td>\n",
              "      <td>0xded434</td>\n",
              "      <td>-3.696947e+00</td>\n",
              "      <td>pos</td>\n",
              "      <td>3.696947e+00</td>\n",
              "    </tr>\n",
              "    <tr>\n",
              "      <th>97</th>\n",
              "      <td>IDBs/Dataset-1/nmap/arm64-clang-9-O1_nping.i64</td>\n",
              "      <td>0x252cec</td>\n",
              "      <td>IDBs/Dataset-1/nmap/x64-clang-5.0-O1_nmap.i64</td>\n",
              "      <td>0x567e90</td>\n",
              "      <td>-1.173518e+01</td>\n",
              "      <td>neg</td>\n",
              "      <td>1.173518e+01</td>\n",
              "    </tr>\n",
              "    <tr>\n",
              "      <th>98</th>\n",
              "      <td>IDBs/Dataset-1/z3/x86-clang-5.0-O0_z3.i64</td>\n",
              "      <td>0x83c7ae0</td>\n",
              "      <td>IDBs/Dataset-1/z3/arm64-gcc-9-O3_z3.i64</td>\n",
              "      <td>0x66b728</td>\n",
              "      <td>-4.807997e+00</td>\n",
              "      <td>pos</td>\n",
              "      <td>4.807997e+00</td>\n",
              "    </tr>\n",
              "    <tr>\n",
              "      <th>99</th>\n",
              "      <td>IDBs/Dataset-1/z3/x86-gcc-7-Os_z3.i64</td>\n",
              "      <td>0x84c814e</td>\n",
              "      <td>IDBs/Dataset-1/nmap/x64-gcc-5-Os_nping.i64</td>\n",
              "      <td>0x45dcb</td>\n",
              "      <td>-4.517256e+01</td>\n",
              "      <td>neg</td>\n",
              "      <td>4.517256e+01</td>\n",
              "    </tr>\n",
              "  </tbody>\n",
              "</table>\n",
              "<p>100 rows × 7 columns</p>\n",
              "</div>\n",
              "      <button class=\"colab-df-convert\" onclick=\"convertToInteractive('df-f1794596-25b2-4b25-abae-c050706dfef0')\"\n",
              "              title=\"Convert this dataframe to an interactive table.\"\n",
              "              style=\"display:none;\">\n",
              "        \n",
              "  <svg xmlns=\"http://www.w3.org/2000/svg\" height=\"24px\"viewBox=\"0 0 24 24\"\n",
              "       width=\"24px\">\n",
              "    <path d=\"M0 0h24v24H0V0z\" fill=\"none\"/>\n",
              "    <path d=\"M18.56 5.44l.94 2.06.94-2.06 2.06-.94-2.06-.94-.94-2.06-.94 2.06-2.06.94zm-11 1L8.5 8.5l.94-2.06 2.06-.94-2.06-.94L8.5 2.5l-.94 2.06-2.06.94zm10 10l.94 2.06.94-2.06 2.06-.94-2.06-.94-.94-2.06-.94 2.06-2.06.94z\"/><path d=\"M17.41 7.96l-1.37-1.37c-.4-.4-.92-.59-1.43-.59-.52 0-1.04.2-1.43.59L10.3 9.45l-7.72 7.72c-.78.78-.78 2.05 0 2.83L4 21.41c.39.39.9.59 1.41.59.51 0 1.02-.2 1.41-.59l7.78-7.78 2.81-2.81c.8-.78.8-2.07 0-2.86zM5.41 20L4 18.59l7.72-7.72 1.47 1.35L5.41 20z\"/>\n",
              "  </svg>\n",
              "      </button>\n",
              "      \n",
              "  <style>\n",
              "    .colab-df-container {\n",
              "      display:flex;\n",
              "      flex-wrap:wrap;\n",
              "      gap: 12px;\n",
              "    }\n",
              "\n",
              "    .colab-df-convert {\n",
              "      background-color: #E8F0FE;\n",
              "      border: none;\n",
              "      border-radius: 50%;\n",
              "      cursor: pointer;\n",
              "      display: none;\n",
              "      fill: #1967D2;\n",
              "      height: 32px;\n",
              "      padding: 0 0 0 0;\n",
              "      width: 32px;\n",
              "    }\n",
              "\n",
              "    .colab-df-convert:hover {\n",
              "      background-color: #E2EBFA;\n",
              "      box-shadow: 0px 1px 2px rgba(60, 64, 67, 0.3), 0px 1px 3px 1px rgba(60, 64, 67, 0.15);\n",
              "      fill: #174EA6;\n",
              "    }\n",
              "\n",
              "    [theme=dark] .colab-df-convert {\n",
              "      background-color: #3B4455;\n",
              "      fill: #D2E3FC;\n",
              "    }\n",
              "\n",
              "    [theme=dark] .colab-df-convert:hover {\n",
              "      background-color: #434B5C;\n",
              "      box-shadow: 0px 1px 3px 1px rgba(0, 0, 0, 0.15);\n",
              "      filter: drop-shadow(0px 1px 2px rgba(0, 0, 0, 0.3));\n",
              "      fill: #FFFFFF;\n",
              "    }\n",
              "  </style>\n",
              "\n",
              "      <script>\n",
              "        const buttonEl =\n",
              "          document.querySelector('#df-f1794596-25b2-4b25-abae-c050706dfef0 button.colab-df-convert');\n",
              "        buttonEl.style.display =\n",
              "          google.colab.kernel.accessAllowed ? 'block' : 'none';\n",
              "\n",
              "        async function convertToInteractive(key) {\n",
              "          const element = document.querySelector('#df-f1794596-25b2-4b25-abae-c050706dfef0');\n",
              "          const dataTable =\n",
              "            await google.colab.kernel.invokeFunction('convertToInteractive',\n",
              "                                                     [key], {});\n",
              "          if (!dataTable) return;\n",
              "\n",
              "          const docLinkHtml = 'Like what you see? Visit the ' +\n",
              "            '<a target=\"_blank\" href=https://colab.research.google.com/notebooks/data_table.ipynb>data table notebook</a>'\n",
              "            + ' to learn more about interactive tables.';\n",
              "          element.innerHTML = '';\n",
              "          dataTable['output_type'] = 'display_data';\n",
              "          await google.colab.output.renderOutput(dataTable, element);\n",
              "          const docLink = document.createElement('div');\n",
              "          docLink.innerHTML = docLinkHtml;\n",
              "          element.appendChild(docLink);\n",
              "        }\n",
              "      </script>\n",
              "    </div>\n",
              "  </div>\n",
              "  "
            ]
          },
          "metadata": {},
          "execution_count": 7
        }
      ],
      "source": [
        "simDF = get_simDF(rank=False)\n",
        "simDF"
      ]
    },
    {
      "cell_type": "code",
      "execution_count": 8,
      "id": "98f1faa5",
      "metadata": {
        "id": "98f1faa5"
      },
      "outputs": [],
      "source": [
        "def visualize_simDF(simDF):\n",
        "    fig = px.histogram(simDF, x='distance', color='class', range_x=[0,100])\n",
        "    fig.update_layout(\n",
        "        template='plotly_white',\n",
        "        title=f'Histogram of {dataset} Euclidean Distance by Classification',\n",
        "        #width=600,\n",
        "        #height=400\n",
        "    )\n",
        "    fig.update_xaxes(title='Euclidean Distance')\n",
        "    fig.update_yaxes(title='Count')\n",
        "    return fig"
      ]
    },
    {
      "cell_type": "code",
      "execution_count": 9,
      "id": "d872b94b",
      "metadata": {
        "id": "d872b94b"
      },
      "outputs": [],
      "source": [
        "model_explorer = visualize_simDF(simDF)"
      ]
    },
    {
      "cell_type": "code",
      "execution_count": 10,
      "id": "c163e31e",
      "metadata": {
        "id": "c163e31e"
      },
      "outputs": [],
      "source": [
        "def get_feature_paths(idb, t='acfg_disasm', db=dataset, testtrain='testing'):\n",
        "    stripped = idb.split('/')[-1][:-4]\n",
        "    if 'acfg' in t:\n",
        "        return f'{rel_path}DBs/{db}/features/{testtrain}/{t}_{db}_{testtrain}/{stripped}_{t}.json'\n",
        "    if t == 'fss':\n",
        "        return f'{rel_path}DBs/{db}/features/{testtrain}/{t}_{db}_{testtrain}/{stripped}_Capstone_True_fss.json'\n",
        "    else: return 'ERR'"
      ]
    },
    {
      "cell_type": "code",
      "execution_count": 11,
      "id": "8cd1fc70",
      "metadata": {
        "id": "8cd1fc70"
      },
      "outputs": [],
      "source": [
        "def get_full_binary(filepath):\n",
        "    print(f'Accessing similarity data path {filepath}...')\n",
        "    f = open(filepath)\n",
        "    o = json.load(f)\n",
        "    l = len(list(o.keys()))\n",
        "    if (l > 1):\n",
        "        print(f'Warning! Code contains {l} keys')\n",
        "    code = o[list(o.keys())[0]]\n",
        "    #print(f'Binary contains {len(list(code.keys()))} functions')\n",
        "    return code"
      ]
    },
    {
      "cell_type": "code",
      "execution_count": 12,
      "id": "7a58a814",
      "metadata": {
        "id": "7a58a814"
      },
      "outputs": [],
      "source": [
        "def filter_edges(function):\n",
        "    problem_targets = []\n",
        "    for e_item in list(itertools.chain(*function['edges'])):\n",
        "        if e_item not in function['nodes']:\n",
        "            print()\n",
        "            print(\"*** WARNING ****\")\n",
        "            print(f'{e_item} not in node list')\n",
        "            problem_targets.append(e_item)\n",
        "            print()\n",
        "    new_edges = []\n",
        "    for edge in function['edges']:\n",
        "        for problem in problem_targets:\n",
        "            if problem in edge:\n",
        "                if debug: print(f'Removed {edge} from network')\n",
        "            else:\n",
        "                new_edges.append(edge)\n",
        "    function['edges']=new_edges\n",
        "    return function"
      ]
    },
    {
      "cell_type": "code",
      "execution_count": 13,
      "id": "b7fd788c",
      "metadata": {
        "id": "b7fd788c"
      },
      "outputs": [],
      "source": [
        "def extract_network(address, binary, filter_e=False):\n",
        "    function = binary[address]\n",
        "    if filter_e:\n",
        "        function = filter_edges(function)\n",
        "    return function"
      ]
    },
    {
      "cell_type": "code",
      "execution_count": 14,
      "id": "319e4a95",
      "metadata": {
        "id": "319e4a95"
      },
      "outputs": [],
      "source": [
        "def remove_components(G, nodeDF, edgeDF):\n",
        "    components = list(nx.connected_components(G))\n",
        "    if debug:\n",
        "        print(f'Found {len(list(components))} components in the graph')\n",
        "    if len(list(components))>1:\n",
        "        if debug: print(f'Filtering graph of size {len(list(G.nodes()))}...')\n",
        "        trees = []\n",
        "        subgraphs = []\n",
        "        for i, node_list in enumerate(components):\n",
        "            if debug:\n",
        "                #print(f'node_list: {list(node_list)}')\n",
        "                print(f'Component #{i} has {len(node_list)} nodes')\n",
        "            Gc = G.subgraph(list(node_list))\n",
        "            if nx.is_tree(Gc):\n",
        "                if debug: print(f'...and is tree')\n",
        "                trees.append(Gc)\n",
        "            else:\n",
        "                if debug: print(f'...and is NOT a tree')\n",
        "                subgraphs.append(Gc)\n",
        "            if debug: print()\n",
        "        if debug:\n",
        "            print(f'Found {len(trees)} tree(s) and {len(subgraphs)} non-tree subgraphs')\n",
        "        if len(trees)>0:\n",
        "            G = trees[0].copy()\n",
        "        else:\n",
        "            G = subgraphs[0].copy()\n",
        "        if debug: print(f'Filtered graph to size {len(list(G.nodes()))}')\n",
        "        nodeDF = nodeDF.filter(items = list(G.nodes()), axis=0)\n",
        "        for i in nodeDF.index:\n",
        "            if i not in list(G.nodes()):\n",
        "                if debug: print(f'Removing {i} from nodeDF')\n",
        "        edgeDF = edgeDF[edgeDF[['source','target']].isin(list(G.nodes())).any(1)]\n",
        "    return G, nodeDF, edgeDF"
      ]
    },
    {
      "cell_type": "code",
      "execution_count": 15,
      "id": "da02c1d9",
      "metadata": {
        "id": "da02c1d9"
      },
      "outputs": [],
      "source": [
        "def parse_network(network, debug=True, remove_c=False):\n",
        "    data_cols = ['node','bb_len', 'bb_mnems', 'bb_norm', 'bb_disasm', 'b64_bytes', 'bb_heads', 'source_count', 'target_count']\n",
        "    edgeDF = pd.DataFrame(network[\"edges\"], columns=['source','target'])\n",
        "    nodeDF = pd.DataFrame(columns=data_cols)\n",
        "    for n in network[\"nodes\"]:\n",
        "        metadata = network['basic_blocks'][str(n)].copy()\n",
        "        metadata['node'] = n\n",
        "        metadata['source_count'] = list(edgeDF['source']).count(n)\n",
        "        metadata['target_count'] = list(edgeDF['target']).count(n)\n",
        "        nodeDF = pd.concat([nodeDF, pd.DataFrame.from_records([metadata])])\n",
        "    nodeDF['instruction_count'] = [len(m) for m in nodeDF['bb_mnems']]\n",
        "    nodeDF = nodeDF.sort_values(by='target_count').set_index('node')\n",
        "    G = nx.from_pandas_edgelist(edgeDF)\n",
        "    if remove_c:\n",
        "        G, nodeDF, edgeDF = remove_components(G, nodeDF, edgeDF)\n",
        "    root = nodeDF.sort_values(by='source_count').index[0]\n",
        "    if debug: print(f'Root node: {root}')\n",
        "    try:\n",
        "        pos = hierarchy_pos(G, root=root)\n",
        "        if debug: print('Hierarchical positioning worked!')\n",
        "    except:\n",
        "        pos=nx.kamada_kawai_layout(G)\n",
        "        if debug: print('Hierarchical positioning failed; using spring layout instead')\n",
        "    \n",
        "    def get_pos(node):\n",
        "        try:\n",
        "            return pos[node]\n",
        "        except:\n",
        "            return (-1,-1)\n",
        "    \n",
        "    nodeDF[['y','x']] = [get_pos(n) for n in nodeDF.index]\n",
        "    nodeLookup = nodeDF.to_dict(orient='index')\n",
        "    \n",
        "    def get_xy(s, t, xy, debug=True):\n",
        "        x = None\n",
        "        y = None\n",
        "        try:\n",
        "            x = nodeLookup[s][xy]\n",
        "        except:\n",
        "            if debug: print(f'Failed to find source {s} in node list!')\n",
        "            x = x\n",
        "        try:\n",
        "            y = nodeLookup[t][xy]\n",
        "        except:\n",
        "            if debug: print(f'Failed to find target {t} in node list!')\n",
        "            y = y\n",
        "        return [x, y]\n",
        "    \n",
        "    edgeDF['x'] = [get_xy(s,t,'x') for s,t in zip(edgeDF['source'], edgeDF['target'])]\n",
        "    edgeDF['y'] = [get_xy(s,t,'y') for s,t in zip(edgeDF['source'], edgeDF['target'])]\n",
        "    edges = {'x':[], 'y':[]}\n",
        "    for i,e in edgeDF.iterrows():\n",
        "        edges['x'].extend(e['x'])\n",
        "        edges['x'].append(None)\n",
        "        edges['y'].extend(e['y'])\n",
        "        edges['y'].append(None)\n",
        "    return nodeDF, edgeDF, edges"
      ]
    },
    {
      "cell_type": "code",
      "execution_count": 16,
      "id": "2c2c3015",
      "metadata": {
        "id": "2c2c3015"
      },
      "outputs": [],
      "source": [
        "def make_network_fig(nodeDF, edges, meta=None):\n",
        "    root = nodeDF.sort_values(by='source_count').index[0]\n",
        "    fig = go.Figure(layout=go.Layout(\n",
        "                    title='Network graph made with Python',\n",
        "                    titlefont_size=16,\n",
        "                    showlegend=False,\n",
        "                    hovermode='closest',\n",
        "                    margin=dict(b=20,l=5,r=5,t=40),\n",
        "                    xaxis=dict(showgrid=False, zeroline=False, showticklabels=False),\n",
        "                    yaxis=dict(showgrid=False, zeroline=False, showticklabels=False))\n",
        "                    )\n",
        "    fig.add_trace(\n",
        "        go.Scatter(x=edges['x'], y=edges['y'], mode='lines',\n",
        "                   line=dict(width=2, color='#888'),\n",
        "                   hoverinfo='none'\n",
        "                  )\n",
        "    )\n",
        "    fig.add_trace(\n",
        "        go.Scatter(x=nodeDF['x'], y=nodeDF['y'], text=[str(m) for m in nodeDF['bb_mnems']], mode='markers',\n",
        "                   marker=dict(\n",
        "                        showscale=True,\n",
        "                        colorscale='YlGnBu',\n",
        "                        reversescale=False,\n",
        "                        color=nodeDF['instruction_count'],\n",
        "                        size=20,\n",
        "                        colorbar=dict(\n",
        "                            thickness=15,\n",
        "                            title='Instruction Count',\n",
        "                            xanchor='left',\n",
        "                            titleside='right'\n",
        "                        ),\n",
        "                        line=dict(\n",
        "                            color=['red' if c==0 else 'black' for c  in nodeDF['target_count']],\n",
        "                            width=4\n",
        "                        ))\n",
        "                ))\n",
        "    fig.update_layout(showlegend=False,\n",
        "        hovermode='closest',\n",
        "        margin=dict(b=20,l=5,r=5,t=40),\n",
        "        xaxis=dict(showgrid=False, zeroline=False, showticklabels=False),\n",
        "        yaxis=dict(showgrid=False, zeroline=False, showticklabels=False),\n",
        "        template='plotly_white'\n",
        "    )\n",
        "    if meta is not None:\n",
        "        fig.update_layout(title=f\"Function: {meta['function']}<br>IDB Path: {meta['path']}<br>Arch: {meta['arch']}\")\n",
        "    return fig"
      ]
    },
    {
      "cell_type": "code",
      "execution_count": 17,
      "id": "b77279c5",
      "metadata": {
        "id": "b77279c5"
      },
      "outputs": [],
      "source": [
        "def compare_plot(node_set, col='bb_len'):\n",
        "    label = data_dict[col]\n",
        "    fig = px.histogram(node_set, y=col, x='function', color=col, title=label, barmode='group')\n",
        "    fig.update_xaxes(title='Function')\n",
        "    fig.update_yaxes(title=label)\n",
        "    fig.update_layout(template='plotly_white')\n",
        "    return fig"
      ]
    },
    {
      "cell_type": "code",
      "execution_count": 18,
      "id": "bdedc344",
      "metadata": {
        "id": "bdedc344"
      },
      "outputs": [],
      "source": [
        "def setup(i, feature='bb_len', debug=True):\n",
        "    row = simDF.iloc[i]\n",
        "    networks = []\n",
        "    node_sets = []\n",
        "    for i in range(1,3):\n",
        "        meta = {'function': row[f'fva_{i}'], 'path':row[f'idb_path_{i}']}\n",
        "        meta['arch'] = meta['path'].split('/')[-1][:-4]\n",
        "        if debug:\n",
        "            print(meta)\n",
        "            print(f\"---- Looking up function {meta['function']} ----\")\n",
        "        binary = get_full_binary(get_feature_paths(meta['path']))\n",
        "        network = extract_network(meta['function'], binary)\n",
        "        nodeDF, edgeDF, edges = parse_network(network, debug=debug)\n",
        "        networks.append(make_network_fig(nodeDF, edges, meta=meta))\n",
        "        nodeDF['function'] = meta['function']\n",
        "        node_sets.append(nodeDF)\n",
        "    compare = compare_plot(pd.concat(node_sets), col=feature)\n",
        "    return networks, compare"
      ]
    },
    {
      "cell_type": "code",
      "execution_count": 19,
      "id": "627132b6",
      "metadata": {
        "id": "627132b6"
      },
      "outputs": [],
      "source": [
        "map_class = {\n",
        "    'pos': 'MATCH',\n",
        "    'neg': 'NOT MATCH'\n",
        "}"
      ]
    },
    {
      "cell_type": "code",
      "execution_count": 20,
      "id": "9d8416ec",
      "metadata": {
        "id": "9d8416ec"
      },
      "outputs": [],
      "source": [
        "def format_pair(i):\n",
        "    label = f\"{list(simDF['fva_1'])[i]} vs. {list(simDF['fva_2'])[i]} ({map_class[list(simDF['class'])[i]]}, {np.round(list(simDF['distance'])[i],2)})\"\n",
        "    return {'label': label, 'value': i}"
      ]
    },
    {
      "cell_type": "code",
      "execution_count": 21,
      "id": "f27be8dc",
      "metadata": {
        "id": "f27be8dc"
      },
      "outputs": [],
      "source": [
        "feature_options = []\n",
        "for var_name, explanation in data_dict.items():\n",
        "    if var_name in ['bb_len', 'instruction_count','source_count','target_count']:\n",
        "        feature_options.append({'label': explanation, 'value': var_name})"
      ]
    },
    {
      "cell_type": "code",
      "execution_count": 22,
      "id": "c294d509",
      "metadata": {
        "id": "c294d509"
      },
      "outputs": [],
      "source": [
        "from jupyter_dash import JupyterDash\n",
        "from dash import Dash, dash_table, html, dcc, Input, Output\n",
        "import dash_daq as daq"
      ]
    },
    {
      "cell_type": "code",
      "execution_count": 23,
      "id": "7efd940a",
      "metadata": {
        "colab": {
          "base_uri": "https://localhost:8080/",
          "height": 89
        },
        "id": "7efd940a",
        "outputId": "7fc18066-5abd-49b8-ce21-f4a3d155dd0e"
      },
      "outputs": [
        {
          "output_type": "stream",
          "name": "stderr",
          "text": [
            "INFO:werkzeug: * Running on http://127.0.0.1:8050/ (Press CTRL+C to quit)\n",
            "INFO:werkzeug:127.0.0.1 - - [15/Dec/2022 06:55:29] \"\u001b[37mGET /_alive_18d491a1-4186-433f-938f-275f31b3511c HTTP/1.1\u001b[0m\" 200 -\n"
          ]
        },
        {
          "output_type": "stream",
          "name": "stdout",
          "text": [
            "Dash app running on:\n"
          ]
        },
        {
          "output_type": "display_data",
          "data": {
            "text/plain": [
              "<IPython.core.display.Javascript object>"
            ],
            "application/javascript": [
              "(async (port, path, text, element) => {\n",
              "    if (!google.colab.kernel.accessAllowed) {\n",
              "      return;\n",
              "    }\n",
              "    element.appendChild(document.createTextNode(''));\n",
              "    const url = await google.colab.kernel.proxyPort(port);\n",
              "    const anchor = document.createElement('a');\n",
              "    anchor.href = new URL(path, url).toString();\n",
              "    anchor.target = '_blank';\n",
              "    anchor.setAttribute('data-href', url + path);\n",
              "    anchor.textContent = text;\n",
              "    element.appendChild(anchor);\n",
              "  })(8050, \"/\", \"http://127.0.0.1:8050/\", window.element)"
            ]
          },
          "metadata": {}
        }
      ],
      "source": [
        "app = JupyterDash(__name__)\n",
        "\n",
        "app.layout = html.Div([\n",
        "    html.Div([\n",
        "        html.H1('Function Similarity Explorer'),\n",
        "        html.P('by Jane Adams & Michael Davinroy'),\n",
        "        dcc.Dropdown([format_pair(i) for i in simDF.index], 1, id='sim_index')\n",
        "    ]),\n",
        "    html.Div([\n",
        "        html.Div([\n",
        "            html.H1('Function #1'),\n",
        "            dcc.Graph(id='network_1'), \n",
        "        ], style={'width': '45%', 'display': 'block', 'float':'left'}),\n",
        "        html.Div([\n",
        "            html.H1('Function #2'),\n",
        "            dcc.Graph(id='network_2'), \n",
        "        ], style={'width': '45%', 'display': 'block', 'float':'right'})\n",
        "    ], style={'width': '100%', 'display': 'block'}),\n",
        "    html.Div([\n",
        "        html.Div([\n",
        "            html.H1('Feature Explorer'),\n",
        "            dcc.Dropdown(feature_options, 'bb_len', id='feature'),\n",
        "            dcc.Graph(id='importance'),\n",
        "        ], style={'width': '45%', 'display': 'block', 'float':'left'}),\n",
        "        html.Div([\n",
        "            html.H1('Model Explorer'),\n",
        "            dcc.Graph(id='model-explorer', figure=model_explorer),\n",
        "            #html.Div(id='table-container')\n",
        "        ], style={'width': '45%', 'display': 'block', 'float':'right'})\n",
        "    ], style={'width': '100%', 'display': 'block'})\n",
        "             \n",
        "], style={'marginBottom': 50, 'marginTop': 25, 'marginLeft': 50, 'marginRight':50})\n",
        "\n",
        "@app.callback(\n",
        "    [Output(component_id='network_1', component_property='figure'),\n",
        "     Output(component_id='network_2', component_property='figure'),\n",
        "     Output(component_id='importance', component_property='figure'),\n",
        "    ],\n",
        "    [Input(component_id='sim_index', component_property='value'),\n",
        "     Input(component_id='feature', component_property='value')\n",
        "    ]\n",
        ")\n",
        "def update_outputs(sim_index, feature):\n",
        "    \n",
        "    networks, importance = setup(sim_index, debug=False, feature=feature)\n",
        "    \n",
        "    network_1, network_2 = networks[0], networks[1]\n",
        "    \n",
        "    table = dash_table.DataTable(\n",
        "        data=simDF.astype(str).to_dict('records'), # data\n",
        "        sort_action='native',\n",
        "        columns = [{\"name\": i, \"id\": i} for i in list(simDF.columns)], # columns\n",
        "        id='table',\n",
        "        style_data={\n",
        "            'whiteSpace': 'normal',\n",
        "            'height': 'auto',\n",
        "        },\n",
        "        style_table={'overflowX': 'auto'},\n",
        "        style_data_conditional=[\n",
        "        {\n",
        "            'if': {\n",
        "                'column_id': 'index',\n",
        "            },\n",
        "            'backgroundColor': 'yellow',\n",
        "            'color': 'black'\n",
        "        }]\n",
        "    )\n",
        "    \n",
        "    return network_1, network_2, importance\n",
        "\n",
        "app.run_server(debug=False)"
      ]
    },
    {
      "cell_type": "code",
      "source": [],
      "metadata": {
        "id": "AAaD2qhwjvf-"
      },
      "id": "AAaD2qhwjvf-",
      "execution_count": 23,
      "outputs": []
    }
  ],
  "metadata": {
    "kernelspec": {
      "display_name": "Python 3 (ipykernel)",
      "language": "python",
      "name": "python3"
    },
    "language_info": {
      "codemirror_mode": {
        "name": "ipython",
        "version": 3
      },
      "file_extension": ".py",
      "mimetype": "text/x-python",
      "name": "python",
      "nbconvert_exporter": "python",
      "pygments_lexer": "ipython3",
      "version": "3.9.12"
    },
    "colab": {
      "provenance": []
    }
  },
  "nbformat": 4,
  "nbformat_minor": 5
}